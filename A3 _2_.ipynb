{
 "cells": [
  {
   "cell_type": "markdown",
   "metadata": {},
   "source": [
    "# Assignment 3: Classification with Logistic Regression  [ __ /130  marks]\n",
    "\n",
    "<hr>\n",
    "<!-- <img src=https://www.tibco.com/sites/tibco/files/media_entity/2020-09/logistic-regression-diagram.svg width=600> -->\n",
    "<img src=https://miro.medium.com/max/1838/1*wWRGcsBwoXw-WNJi5UpoOw.png width=600>\n",
    "<hr>\n",
    "\n",
    "In this assignment we will consider the `diabetes` dataset from kaggle: https://www.kaggle.com/kandij/diabetes-dataset\n",
    "\n",
    "We will use logistic regression to classify subjects based on the input features; we will also evaluate our model with/without regularization."
   ]
  },
  {
   "cell_type": "markdown",
   "metadata": {},
   "source": [
    "## Before you start...\n",
    "* check out the relevant lecture code (L3_codeF.ipynb) for reference"
   ]
  },
  {
   "cell_type": "markdown",
   "metadata": {},
   "source": [
    "## Before you submit...\n",
    "* restart the kernel, then re-run the whole notebook to ensure no errors"
   ]
  },
  {
   "cell_type": "code",
   "execution_count": 1,
   "metadata": {},
   "outputs": [],
   "source": [
    "import pandas as pd\n",
    "import seaborn as sns\n",
    "import numpy as np\n",
    "from sklearn.model_selection import train_test_split\n",
    "from sklearn.linear_model import LogisticRegression\n",
    "from sklearn.metrics import confusion_matrix, roc_curve, precision_recall_curve, auc\n",
    "\n",
    "import matplotlib.pyplot as plt\n",
    "%matplotlib inline"
   ]
  },
  {
   "cell_type": "markdown",
   "metadata": {},
   "source": [
    "## Question 1.1 [ _ /4 marks]\n",
    "\n",
    "Read the file `diabetes.csv` into a pandas DataFrame. Display the first 5 rows of the DataFrame. "
   ]
  },
  {
   "cell_type": "code",
   "execution_count": 2,
   "metadata": {
    "scrolled": true
   },
   "outputs": [
    {
     "data": {
      "text/html": [
       "<div>\n",
       "<style scoped>\n",
       "    .dataframe tbody tr th:only-of-type {\n",
       "        vertical-align: middle;\n",
       "    }\n",
       "\n",
       "    .dataframe tbody tr th {\n",
       "        vertical-align: top;\n",
       "    }\n",
       "\n",
       "    .dataframe thead th {\n",
       "        text-align: right;\n",
       "    }\n",
       "</style>\n",
       "<table border=\"1\" class=\"dataframe\">\n",
       "  <thead>\n",
       "    <tr style=\"text-align: right;\">\n",
       "      <th></th>\n",
       "      <th>Pregnancies</th>\n",
       "      <th>Glucose</th>\n",
       "      <th>BloodPressure</th>\n",
       "      <th>SkinThickness</th>\n",
       "      <th>Insulin</th>\n",
       "      <th>BMI</th>\n",
       "      <th>DiabetesPedigreeFunction</th>\n",
       "      <th>Age</th>\n",
       "      <th>Outcome</th>\n",
       "    </tr>\n",
       "  </thead>\n",
       "  <tbody>\n",
       "    <tr>\n",
       "      <th>0</th>\n",
       "      <td>6</td>\n",
       "      <td>148</td>\n",
       "      <td>72</td>\n",
       "      <td>35</td>\n",
       "      <td>0</td>\n",
       "      <td>33.6</td>\n",
       "      <td>0.627</td>\n",
       "      <td>50</td>\n",
       "      <td>1</td>\n",
       "    </tr>\n",
       "    <tr>\n",
       "      <th>1</th>\n",
       "      <td>1</td>\n",
       "      <td>85</td>\n",
       "      <td>66</td>\n",
       "      <td>29</td>\n",
       "      <td>0</td>\n",
       "      <td>26.6</td>\n",
       "      <td>0.351</td>\n",
       "      <td>31</td>\n",
       "      <td>0</td>\n",
       "    </tr>\n",
       "    <tr>\n",
       "      <th>2</th>\n",
       "      <td>8</td>\n",
       "      <td>183</td>\n",
       "      <td>64</td>\n",
       "      <td>0</td>\n",
       "      <td>0</td>\n",
       "      <td>23.3</td>\n",
       "      <td>0.672</td>\n",
       "      <td>32</td>\n",
       "      <td>1</td>\n",
       "    </tr>\n",
       "    <tr>\n",
       "      <th>3</th>\n",
       "      <td>1</td>\n",
       "      <td>89</td>\n",
       "      <td>66</td>\n",
       "      <td>23</td>\n",
       "      <td>94</td>\n",
       "      <td>28.1</td>\n",
       "      <td>0.167</td>\n",
       "      <td>21</td>\n",
       "      <td>0</td>\n",
       "    </tr>\n",
       "    <tr>\n",
       "      <th>4</th>\n",
       "      <td>0</td>\n",
       "      <td>137</td>\n",
       "      <td>40</td>\n",
       "      <td>35</td>\n",
       "      <td>168</td>\n",
       "      <td>43.1</td>\n",
       "      <td>2.288</td>\n",
       "      <td>33</td>\n",
       "      <td>1</td>\n",
       "    </tr>\n",
       "  </tbody>\n",
       "</table>\n",
       "</div>"
      ],
      "text/plain": [
       "   Pregnancies  Glucose  BloodPressure  SkinThickness  Insulin   BMI  \\\n",
       "0            6      148             72             35        0  33.6   \n",
       "1            1       85             66             29        0  26.6   \n",
       "2            8      183             64              0        0  23.3   \n",
       "3            1       89             66             23       94  28.1   \n",
       "4            0      137             40             35      168  43.1   \n",
       "\n",
       "   DiabetesPedigreeFunction  Age  Outcome  \n",
       "0                     0.627   50        1  \n",
       "1                     0.351   31        0  \n",
       "2                     0.672   32        1  \n",
       "3                     0.167   21        0  \n",
       "4                     2.288   33        1  "
      ]
     },
     "execution_count": 2,
     "metadata": {},
     "output_type": "execute_result"
    }
   ],
   "source": [
    "# ****** your code here ******\n",
    "df=pd.read_csv(\"diabetes.csv\")\n",
    "df.head()"
   ]
  },
  {
   "cell_type": "markdown",
   "metadata": {},
   "source": [
    "## Question 1.2 [ _ /10 marks]\n",
    "\n",
    "Please answer the following short-answer questions `(a-d)`. Your answer can be brief (a few words or a sentence)."
   ]
  },
  {
   "cell_type": "markdown",
   "metadata": {},
   "source": [
    "**(a) How many input features does this dataset have?**  "
   ]
  },
  {
   "cell_type": "markdown",
   "metadata": {},
   "source": [
    "Your answer:There are \"8\" input features in the dataset which are as follows:\n",
    "1.Pregnancies\n",
    "2.Glucose\n",
    "3.BloodPressure\n",
    "4.SkinThickness\n",
    "5.Insulin\n",
    "6.BMI\n",
    "7.DiabetesPedigreeFunction\n",
    "8.Age\n"
   ]
  },
  {
   "cell_type": "markdown",
   "metadata": {},
   "source": [
    "**(b) What is the dependent variable?** "
   ]
  },
  {
   "cell_type": "markdown",
   "metadata": {},
   "source": [
    "Your answer: The dependent variable here is \"Outcome\"."
   ]
  },
  {
   "cell_type": "markdown",
   "metadata": {},
   "source": [
    "**(c) How many classes are there?**"
   ]
  },
  {
   "cell_type": "markdown",
   "metadata": {},
   "source": [
    "Your answer:There are only \"2\" classes which are \"0\" and \"1\"."
   ]
  },
  {
   "cell_type": "markdown",
   "metadata": {},
   "source": [
    "**(d) Is the dataset class-balanced? Check with some code.**"
   ]
  },
  {
   "cell_type": "code",
   "execution_count": 3,
   "metadata": {},
   "outputs": [
    {
     "name": "stdout",
     "output_type": "stream",
     "text": [
      "0    500\n",
      "1    268\n",
      "Name: Outcome, dtype: int64\n"
     ]
    }
   ],
   "source": [
    "# ****** your code here ******\n",
    "print(df.Outcome.value_counts())"
   ]
  },
  {
   "cell_type": "markdown",
   "metadata": {},
   "source": [
    "Your answer: The dataset is not balanced since it has different numbers of 0's and 1's"
   ]
  },
  {
   "cell_type": "markdown",
   "metadata": {},
   "source": [
    "## Question 1.3 [ _ /12 marks]\n",
    "\n",
    "Split the data into train and test sets: Use `train_test_split` with `random_state=0`. Use 50% of the data for training and 50% for testing."
   ]
  },
  {
   "cell_type": "code",
   "execution_count": 4,
   "metadata": {},
   "outputs": [],
   "source": [
    "# Store the input values into a variable called \"X\" [ /4 marks]\n",
    "# ****** your code here ******\n",
    "X=df.iloc[:,0:8].values\n",
    "y=df.Outcome.values\n",
    "X_train,X_test,y_train,y_test=train_test_split(X,y,random_state=0,test_size=0.5)\n",
    "\n",
    "\n",
    "# Convert 0's and 1's to \"Neg\" and \"Pos\" class labels. Store the output class values into variable \"y\" [ /6 marks]\n",
    "# ****** your code here ******\n",
    "y=df.Outcome.replace(to_replace=[0,1], value=['Neg', 'Pos'])\n",
    "\n",
    "\n",
    "# Split your X and y data using train_test_split [ /2 marks]\n",
    "# ****** your code here ******\n",
    "X_train,X_test,y_train,y_test=train_test_split(X,y,random_state=0,test_size=0.5)"
   ]
  },
  {
   "cell_type": "markdown",
   "metadata": {},
   "source": [
    "## Question 1.4 [ _ /16 marks]\n",
    "\n",
    "Consider sklearn's `LogisticRegression` class. Create a `LogisticRegression` object with `penalty=none`. Train and test this classifier using \"Insulin\" as the independent variable and \"Outcome\" as the dependent variable. Make a scatter plot of the points. Plot your prediction on the same graph."
   ]
  },
  {
   "cell_type": "code",
   "execution_count": 12,
   "metadata": {},
   "outputs": [
    {
     "name": "stderr",
     "output_type": "stream",
     "text": [
      "D:\\Anaconda\\lib\\site-packages\\seaborn\\_decorators.py:36: FutureWarning: Pass the following variables as keyword args: x, y. From version 0.12, the only valid positional argument will be `data`, and passing other arguments without an explicit keyword will result in an error or misinterpretation.\n",
      "  warnings.warn(\n"
     ]
    },
    {
     "data": {
      "image/png": "[encoded data removed]",
      "text/plain": [
       "<Figure size 432x288 with 1 Axes>"
      ]
     },
     "metadata": {
      "needs_background": "light"
     },
     "output_type": "display_data"
    }
   ],
   "source": [
    "# Create a LogisticRegression object without regularization [ /2 marks]\n",
    "# ****** your code here ******\n",
    "lr=LogisticRegression(penalty=\"none\")\n",
    "# Create training data and test data for X [ /4 marks]\n",
    "# ****** your code here ******\n",
    "X=df.Insulin.values\n",
    "y=df.Outcome.values\n",
    "X_train,X_test,y_train,y_test=train_test_split(X,y,random_state=0,test_size=0.5)\n",
    "\n",
    "\n",
    "# Fit to your training data using Logistic Regression [ /2 marks]\n",
    "# ****** your code here ******\n",
    "lr.fit(X_train.reshape(-1,1),y_train)\n",
    "\n",
    "\n",
    "# Create a scatter plot of the test data. Also plot your prediction. [ /8 marks]\n",
    "# ****** your code here ******\n",
    "plt.scatter(X_test,y_test)\n",
    "y_pred=lr.predict(X_test.reshape(-1,1))\n",
    "sns.lineplot(X_test,y_pred)\n",
    "plt.xlabel(\"Insulin\")\n",
    "\n",
    "\n",
    "y_test_prob1=lr.predict_proba(X_test.reshape(-1,1))"
   ]
  },
  {
   "cell_type": "markdown",
   "metadata": {},
   "source": [
    "## Question 1.5 [ _ /12 marks]\n",
    "\n",
    "How many True Positives (TP), True Negatives (TN), False Negatives (FN), and False Positives (FP) were there from your classification test results in question 1.4? What was the test accuracy of your classifier? You can use the following formula:\n",
    "\n",
    "$$Accuracy = \\frac{TP + TN}{TP + TN + FP + FN}$$"
   ]
  },
  {
   "cell_type": "code",
   "execution_count": 6,
   "metadata": {},
   "outputs": [
    {
     "name": "stdout",
     "output_type": "stream",
     "text": [
      "tp: 6 tn: 248 fp: 5 fn: 125\n",
      "Accuracy: 0.661\n"
     ]
    }
   ],
   "source": [
    "# Calculate tp, tn, fp, fn, and test accuracy\n",
    "# ****** your code here ******\n",
    "\n",
    "def compute_performance(yhat, y, classes):\n",
    "    tp = sum(np.logical_and(yhat == classes[1], y == classes[1]))\n",
    "    tn = sum(np.logical_and(yhat == classes[0], y == classes[0]))\n",
    "    fp = sum(np.logical_and(yhat == classes[1], y == classes[0]))\n",
    "    fn = sum(np.logical_and(yhat == classes[0], y == classes[1]))\n",
    "\n",
    "    print(f\"tp: {tp} tn: {tn} fp: {fp} fn: {fn}\")\n",
    "    acc = (tp + tn) / (tp + tn + fp + fn)\n",
    "        \n",
    "    print(\"Accuracy:\",round(acc,3))\n",
    "    \n",
    "compute_performance(y_pred,y_test,lr.classes_)\n",
    "\n",
    "\n"
   ]
  },
  {
   "cell_type": "markdown",
   "metadata": {},
   "source": [
    "## Question 1.6 [ _ /18 marks]\n",
    "\n",
    "Now try adjusting the decision threshold to 0.35 (instead of the default, which is 0.5). Report TP, TN, FP, FN, and Accuracy."
   ]
  },
  {
   "cell_type": "code",
   "execution_count": 7,
   "metadata": {},
   "outputs": [
    {
     "name": "stdout",
     "output_type": "stream",
     "text": [
      "tp: 58 tn: 174 fp: 79 fn: 73\n",
      "Accuracy: 0.604\n"
     ]
    }
   ],
   "source": [
    "# Using your fit from question 1.4, adjust the decision threshold and get the updated predictions [ /6 marks]\n",
    "# ****** your code here ******\n",
    "y_test_prob=lr.predict_proba(X_test.reshape(-1,1))\n",
    "y_hat=lr.classes_[(y_test_prob[:,1]>0.35).astype(\"int\")]\n",
    "\n",
    "# Calculate tp, tn, fp, fn, and test accuracy [ /12 marks]\n",
    "# ****** your code here ******\n",
    "compute_performance(y_hat,y_test,lr.classes_)\n",
    "\n",
    "\n",
    "\n"
   ]
  },
  {
   "cell_type": "markdown",
   "metadata": {},
   "source": [
    "## Question 1.7 [ _ /6 marks]\n",
    "\n",
    "What happens when the threshold is lowered from question 1.5 to question 1.6? Could one model be more useful than the other? Answer in a few sentences."
   ]
  },
  {
   "cell_type": "markdown",
   "metadata": {},
   "source": [
    "Your answer: The number of True positive and False positive cases increased when the threshold was lowered while the True negative and False negative cases decreased when we lowered the threshold.\n",
    "It affected the accuracy as well.\n",
    "The accuracy gets lower with lower threshold.\n",
    "\n",
    "Yes as we have seen with the change in the threshold, the values got changed.\n",
    "So one model can be proved to be better than the other just by adjusting the threshold correctly."
   ]
  },
  {
   "cell_type": "markdown",
   "metadata": {},
   "source": [
    "## Question 1.8 [ _ /18 marks]\n",
    "\n",
    "Create another `LogisticRegression` object with `penalty=none`. Train and test this classifier, this time using all input features. Calculate TP, FP, TN, FN, and Accuracy."
   ]
  },
  {
   "cell_type": "code",
   "execution_count": 8,
   "metadata": {},
   "outputs": [
    {
     "name": "stdout",
     "output_type": "stream",
     "text": [
      "tp: 75 tn: 228 fp: 25 fn: 56\n",
      "Accuracy: 0.789\n"
     ]
    }
   ],
   "source": [
    "# Create a LogisticRegression object without regularization [ /2 marks]\n",
    "# ****** your code here ******\n",
    "lr=LogisticRegression(max_iter=150,penalty=\"none\")\n",
    "\n",
    "X=df.iloc[:,0:8].values\n",
    "y=df.Outcome.values\n",
    "\n",
    "X_train,X_test,y_train,y_test=train_test_split(X,y,random_state=0,test_size=0.5)\n",
    "\n",
    "\n",
    "# Fit to your training data using Logistic Regression [ /2 marks]\n",
    "# ****** your code here ******\n",
    "lr.fit(X_train,y_train)\n",
    "\n",
    "\n",
    "# Compute your test predictions, given the test inputs [ /2 marks]\n",
    "# ****** your code here ******\n",
    "y_pred=lr.predict(X_test)\n",
    "\n",
    "# Calculate tp, tn, fp, fn, and test accuracy [ /12 marks]\n",
    "# ****** your code here ******\n",
    "compute_performance(y_pred,y_test,lr.classes_)\n",
    "\n",
    "\n",
    "\n",
    "\n",
    "y_test_prob2=lr.predict_proba(X_test)"
   ]
  },
  {
   "cell_type": "markdown",
   "metadata": {},
   "source": [
    "## Question 1.9 [ _ /20 marks]\n",
    "\n",
    "Create a final `LogisticRegression` object with `penalty=l2`, `C=0.01`. Train and test this classifier using all input features. Calculate TP, FP, TN, FN, and Accuracy. Did regularization help in this case? "
   ]
  },
  {
   "cell_type": "code",
   "execution_count": 9,
   "metadata": {},
   "outputs": [
    {
     "name": "stdout",
     "output_type": "stream",
     "text": [
      "tp: 74 tn: 228 fp: 25 fn: 57\n",
      "Accuracy: 0.786\n"
     ]
    }
   ],
   "source": [
    "# Create a LogisticRegression object with l2 regularization [ /2 marks]\n",
    "# ****** your code here ******\n",
    "\n",
    "# Create a LogisticRegression object without regularization [ /2 marks]\n",
    "# ****** your code here ******\n",
    "lr=LogisticRegression(max_iter=200,penalty=\"l2\",C=0.01)\n",
    "\n",
    "X=df.iloc[:,0:8].values\n",
    "y=df.Outcome.values\n",
    "\n",
    "X_train,X_test,y_train,y_test=train_test_split(X,y,random_state=0,test_size=0.5)\n",
    "\n",
    "\n",
    "# Fit to your training data using Logistic Regression [ /2 marks]\n",
    "# ****** your code here ******\n",
    "lr.fit(X_train,y_train)\n",
    "\n",
    "\n",
    "# Compute your test predictions, given the test inputs [ /2 marks]\n",
    "# ****** your code here ******\n",
    "y_pred=lr.predict(X_test)\n",
    "\n",
    "# Calculate tp, tn, fp, fn, and test accuracy [ /12 marks]\n",
    "# ****** your code here ******\n",
    "compute_performance(y_pred,y_test,lr.classes_)\n",
    "\n",
    "\n",
    "\n",
    "y_test_prob3=lr.predict_proba(X_test)"
   ]
  },
  {
   "cell_type": "markdown",
   "metadata": {},
   "source": [
    "Your answer: There's not much change in the classifier's performance after the regularization. But only few changes in the True positive and false negative. The number of cases for true positive decreased while for false negative, it got increased and the rest of all others cases remains to be same.\n",
    "There's not much change in the accuracy as well, but with regularization there's a very small decrease in accuracy."
   ]
  },
  {
   "cell_type": "markdown",
   "metadata": {},
   "source": [
    "## Question 2.1 [ _ /14 marks]\n",
    "\n",
    "Plot ROC Curves for the classifiers you used in questions 1.4, 1.8, and 1.9. Use AUC to determine which classifier is the best. State the best classifier."
   ]
  },
  {
   "cell_type": "code",
   "execution_count": 11,
   "metadata": {},
   "outputs": [
    {
     "name": "stderr",
     "output_type": "stream",
     "text": [
      "D:\\Anaconda\\lib\\site-packages\\seaborn\\_decorators.py:36: FutureWarning: Pass the following variables as keyword args: x, y. From version 0.12, the only valid positional argument will be `data`, and passing other arguments without an explicit keyword will result in an error or misinterpretation.\n",
      "  warnings.warn(\n",
      "D:\\Anaconda\\lib\\site-packages\\seaborn\\_decorators.py:36: FutureWarning: Pass the following variables as keyword args: x, y. From version 0.12, the only valid positional argument will be `data`, and passing other arguments without an explicit keyword will result in an error or misinterpretation.\n",
      "  warnings.warn(\n",
      "D:\\Anaconda\\lib\\site-packages\\seaborn\\_decorators.py:36: FutureWarning: Pass the following variables as keyword args: x, y. From version 0.12, the only valid positional argument will be `data`, and passing other arguments without an explicit keyword will result in an error or misinterpretation.\n",
      "  warnings.warn(\n"
     ]
    },
    {
     "name": "stdout",
     "output_type": "stream",
     "text": [
      "With One feature Insulin only\n",
      "0.5322994297438373\n",
      "With all features\n",
      "0.848052379084573\n",
      "All features with regularization\n",
      "0.8391817276649669\n"
     ]
    },
    {
     "data": {
      "text/plain": [
       "Text(0, 0.5, 'True Positive Rate')"
      ]
     },
     "execution_count": 11,
     "metadata": {},
     "output_type": "execute_result"
    },
    {
     "data": {
      "image/png": "[encoded data removed]",
      "text/plain": [
       "<Figure size 432x288 with 1 Axes>"
      ]
     },
     "metadata": {
      "needs_background": "light"
     },
     "output_type": "display_data"
    }
   ],
   "source": [
    "# Use roc_curve to get FPR and TPR for each of the 3 classifiers [ /6 marks]\n",
    "# ****** your code here ******\n",
    "\n",
    "fpr1,tpr1,_=roc_curve(y_test,y_test_prob1[:,1])\n",
    "\n",
    "\n",
    "fpr2,tpr2,_=roc_curve(y_test,y_test_prob2[:,1])\n",
    "\n",
    "\n",
    "fpr3,tpr3,_=roc_curve(y_test,y_test_prob3[:,1])\n",
    "\n",
    "# Plot all of the ROC curves [ /3 marks]\n",
    "# ****** your code here ******\n",
    "sns.lineplot(fpr1,tpr1,color='blue')\n",
    "sns.lineplot(fpr2,tpr2,color='green')\n",
    "sns.lineplot(fpr3,tpr3,color='orange')\n",
    "plt.legend(labels=[\"One feature(Insulin) w/o Regularization\",\"All features w/o Regularization\",\"All features w Regularization\"])\n",
    "\n",
    "# Determine AUC for each of the ROC curves [ /3 marks]\n",
    "# ****** your code here ******\n",
    "print(\"With One feature Insulin only\")\n",
    "print(auc(fpr1,tpr1))\n",
    "print(\"With all features\")\n",
    "print(auc(fpr2,tpr2))\n",
    "print(\"All features with regularization\")\n",
    "print(auc(fpr3,tpr3))\n",
    "plt.xlabel(\"False Positive Rate\")\n",
    "plt.ylabel(\"True Positive Rate\")"
   ]
  },
  {
   "cell_type": "markdown",
   "metadata": {},
   "source": [
    "Your answer: The AUC of the classifier used in question 1.8 i.e. the one with all the features without Regularization is highest, so it's the best classifier among all the other classifiers."
   ]
  },
  {
   "cell_type": "code",
   "execution_count": null,
   "metadata": {},
   "outputs": [],
   "source": []
  }
 ],
 "metadata": {
  "kernelspec": {
   "display_name": "Python 3",
   "language": "python",
   "name": "python3"
  },
  "language_info": {
   "codemirror_mode": {
    "name": "ipython",
    "version": 3
   },
   "file_extension": ".py",
   "mimetype": "text/x-python",
   "name": "python",
   "nbconvert_exporter": "python",
   "pygments_lexer": "ipython3",
   "version": "3.8.5"
  }
 },
 "nbformat": 4,
 "nbformat_minor": 4
}
